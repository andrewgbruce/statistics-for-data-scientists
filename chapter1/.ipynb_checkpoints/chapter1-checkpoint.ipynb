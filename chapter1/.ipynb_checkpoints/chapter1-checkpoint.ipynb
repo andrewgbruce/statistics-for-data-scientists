{
 "cells": [
  {
   "cell_type": "code",
   "execution_count": null,
   "metadata": {},
   "outputs": [],
   "source": [
    "# EXAMPLE: Location Estimates of Population and Murder Rates\n",
    "# TASK: compute the mean, trimmed mean, and median for the population"
   ]
  },
  {
   "cell_type": "code",
   "execution_count": 27,
   "metadata": {
    "scrolled": true
   },
   "outputs": [
    {
     "name": "stdout",
     "output_type": "stream",
     "text": [
      "Collecting wquantiles\n",
      "  Downloading wquantiles-0.6-py3-none-any.whl (3.3 kB)\n",
      "Requirement already satisfied: numpy>=1.18 in /opt/anaconda3/lib/python3.8/site-packages (from wquantiles) (1.19.2)\n",
      "Installing collected packages: wquantiles\n",
      "Successfully installed wquantiles-0.6\n",
      "Note: you may need to restart the kernel to use updated packages.\n"
     ]
    }
   ],
   "source": [
    "#pip install wquantiles"
   ]
  },
  {
   "cell_type": "code",
   "execution_count": 107,
   "metadata": {},
   "outputs": [],
   "source": [
    "#import needed packages\n",
    "\n",
    "import os\n",
    "import csv\n",
    "import numpy as np\n",
    "import pandas as p\n",
    "from scipy import stats\n",
    "import weighted\n",
    "import matplotlib as mp\n",
    "import seaborn as sns"
   ]
  },
  {
   "cell_type": "code",
   "execution_count": 3,
   "metadata": {},
   "outputs": [],
   "source": [
    "os.getcwd()\n",
    "os.chdir(\"/Users/susheel/Documents/GitHub/statistics-for-data-scientists/data\")   #FILE DIRECTORY IN QUOTES\n",
    "#os.listdir()"
   ]
  },
  {
   "cell_type": "code",
   "execution_count": 4,
   "metadata": {},
   "outputs": [],
   "source": [
    "state = p.read_csv(filepath_or_buffer = \"state.csv\")"
   ]
  },
  {
   "cell_type": "code",
   "execution_count": 14,
   "metadata": {},
   "outputs": [
    {
     "data": {
      "text/plain": [
       "6162876.3"
      ]
     },
     "execution_count": 14,
     "metadata": {},
     "output_type": "execute_result"
    }
   ],
   "source": [
    "np.mean(state.Population)"
   ]
  },
  {
   "cell_type": "code",
   "execution_count": 18,
   "metadata": {},
   "outputs": [
    {
     "data": {
      "text/plain": [
       "4783697.125"
      ]
     },
     "execution_count": 18,
     "metadata": {},
     "output_type": "execute_result"
    }
   ],
   "source": [
    "#have to use a different package (scipy) to calculate the trimmed mean\n",
    "stats.trim_mean(state.Population, 0.1)"
   ]
  },
  {
   "cell_type": "code",
   "execution_count": 15,
   "metadata": {},
   "outputs": [
    {
     "data": {
      "text/plain": [
       "4436369.5"
      ]
     },
     "execution_count": 15,
     "metadata": {},
     "output_type": "execute_result"
    }
   ],
   "source": [
    "np.median(state.Population)"
   ]
  },
  {
   "cell_type": "code",
   "execution_count": null,
   "metadata": {},
   "outputs": [],
   "source": [
    "# TASK: compute average murder rate for country"
   ]
  },
  {
   "cell_type": "code",
   "execution_count": 25,
   "metadata": {},
   "outputs": [
    {
     "data": {
      "text/plain": [
       "4.445834"
      ]
     },
     "execution_count": 25,
     "metadata": {},
     "output_type": "execute_result"
    }
   ],
   "source": [
    "round(np.average(state['Murder.Rate'], weights = state.Population), 6)"
   ]
  },
  {
   "cell_type": "code",
   "execution_count": 29,
   "metadata": {},
   "outputs": [
    {
     "data": {
      "text/plain": [
       "4.4"
      ]
     },
     "execution_count": 29,
     "metadata": {},
     "output_type": "execute_result"
    }
   ],
   "source": [
    "weighted.median(state['Murder.Rate'], state['Population'])"
   ]
  },
  {
   "cell_type": "code",
   "execution_count": null,
   "metadata": {},
   "outputs": [],
   "source": [
    "# TASK: compute the standard deviation, IQR and median absolute devision for the population"
   ]
  },
  {
   "cell_type": "code",
   "execution_count": 7,
   "metadata": {},
   "outputs": [
    {
     "data": {
      "text/plain": [
       "6779407.114632265"
      ]
     },
     "execution_count": 7,
     "metadata": {},
     "output_type": "execute_result"
    }
   ],
   "source": [
    "np.std(state['Population'])\n",
    "\n",
    "#numpy std f'n might return values differing R because R uses n-1 df while numpy uses n"
   ]
  },
  {
   "cell_type": "code",
   "execution_count": 8,
   "metadata": {},
   "outputs": [
    {
     "data": {
      "text/plain": [
       "6848235.347401142"
      ]
     },
     "execution_count": 8,
     "metadata": {},
     "output_type": "execute_result"
    }
   ],
   "source": [
    "np.std(state['Population'], ddof = 1)"
   ]
  },
  {
   "cell_type": "code",
   "execution_count": 13,
   "metadata": {},
   "outputs": [
    {
     "data": {
      "text/plain": [
       "4847308.0"
      ]
     },
     "execution_count": 13,
     "metadata": {},
     "output_type": "execute_result"
    }
   ],
   "source": [
    "stats.iqr(state['Population'])\n",
    "\n",
    "#numpy does not have a built-in IQR function but scipy does; if anything, below cell contains iqr function calculated through (q3 - q1) with numpy.percentile function -- arriving at the same answer"
   ]
  },
  {
   "cell_type": "code",
   "execution_count": 15,
   "metadata": {},
   "outputs": [
    {
     "name": "stdout",
     "output_type": "stream",
     "text": [
      "4847308.0\n"
     ]
    }
   ],
   "source": [
    "q3 = np.percentile(state['Population'], 75)\n",
    "q1 = np.percentile(state['Population'], 25)\n",
    "\n",
    "iqr = q3 - q1\n",
    "print(iqr)"
   ]
  },
  {
   "cell_type": "code",
   "execution_count": 19,
   "metadata": {},
   "outputs": [
    {
     "data": {
      "text/plain": [
       "2596702.0"
      ]
     },
     "execution_count": 19,
     "metadata": {},
     "output_type": "execute_result"
    }
   ],
   "source": [
    "stats.median_abs_deviation(state['Population'])\n",
    "\n",
    "#differs from the R value (3849870) so implementing formula manually in below cell"
   ]
  },
  {
   "cell_type": "code",
   "execution_count": 5,
   "metadata": {},
   "outputs": [
    {
     "name": "stderr",
     "output_type": "stream",
     "text": [
      "<ipython-input-5-1f7b6a962419>:3: DeprecationWarning: The default dtype for empty Series will be 'object' instead of 'float64' in a future version. Specify a dtype explicitly to silence this warning.\n",
      "  median_minus_observed = p.Series()\n"
     ]
    },
    {
     "data": {
      "text/plain": [
       "2596702.0"
      ]
     },
     "execution_count": 5,
     "metadata": {},
     "output_type": "execute_result"
    }
   ],
   "source": [
    "#type(state['Population'])\n",
    "\n",
    "median_minus_observed = p.Series()\n",
    "median_minus_observed = state['Population'] - np.median(state['Population'])\n",
    "abs_median_minus_observed = np.absolute(median_minus_observed)\n",
    "median_absolute_deviation = np.median(abs_median_minus_observed)\n",
    "median_absolute_deviation\n",
    "\n",
    "#receiving same result (2596702) in R when manually calculating Median Absolute Deviation\n",
    "# also receiving same result (2596702) in R when using mad() f'n and constant = 1"
   ]
  },
  {
   "cell_type": "code",
   "execution_count": 14,
   "metadata": {},
   "outputs": [
    {
     "data": {
      "text/plain": [
       "2596702.0"
      ]
     },
     "execution_count": 14,
     "metadata": {},
     "output_type": "execute_result"
    }
   ],
   "source": [
    "#stats.median_absolute_deviation(state['Population'])\n",
    "#when performing the above function, receiving a DeprecationWarning: \n",
    "'''\n",
    "<ipython-input-10-a731dec4ff69>:1: DeprecationWarning: `median_absolute_deviation` is deprecated, use `median_abs_deviation` instead!\n",
    "\n",
    "To preserve the existing default behavior, use\n",
    "`scipy.stats.median_abs_deviation(..., scale=1/1.4826)`.\n",
    "The value 1.4826 is not numerically precise for scaling\n",
    "with a normal distribution. For a numerically precise value, use\n",
    "`scipy.stats.median_abs_deviation(..., scale='normal')`.\n",
    "\n",
    "  stats.median_absolute_deviation(state['Population'])\n",
    "'''\n",
    "\n",
    "stats.median_abs_deviation(state['Population'], scale = 1)\n",
    "#when scale = 1, receiving 2596702.0\n",
    "#when scale = 1/1.4826, receiving 3849870.3852"
   ]
  },
  {
   "cell_type": "code",
   "execution_count": 5,
   "metadata": {},
   "outputs": [
    {
     "data": {
      "text/plain": [
       "6.51"
      ]
     },
     "execution_count": 5,
     "metadata": {},
     "output_type": "execute_result"
    }
   ],
   "source": [
    "# Percentiles of the Murder Rate by State\n",
    "\n",
    "np.percentile(state['Murder.Rate'], 5)"
   ]
  },
  {
   "cell_type": "code",
   "execution_count": 9,
   "metadata": {},
   "outputs": [
    {
     "data": {
      "text/plain": [
       "2.425"
      ]
     },
     "execution_count": 9,
     "metadata": {},
     "output_type": "execute_result"
    }
   ],
   "source": [
    "np.percentile(state['Murder.Rate'], 25)"
   ]
  },
  {
   "cell_type": "code",
   "execution_count": 10,
   "metadata": {},
   "outputs": [
    {
     "data": {
      "text/plain": [
       "4.0"
      ]
     },
     "execution_count": 10,
     "metadata": {},
     "output_type": "execute_result"
    }
   ],
   "source": [
    "np.percentile(state['Murder.Rate'], 50)"
   ]
  },
  {
   "cell_type": "code",
   "execution_count": 11,
   "metadata": {},
   "outputs": [
    {
     "data": {
      "text/plain": [
       "5.549999999999999"
      ]
     },
     "execution_count": 11,
     "metadata": {},
     "output_type": "execute_result"
    }
   ],
   "source": [
    "np.percentile(state['Murder.Rate'], 75)"
   ]
  },
  {
   "cell_type": "code",
   "execution_count": 12,
   "metadata": {},
   "outputs": [
    {
     "data": {
      "text/plain": [
       "6.51"
      ]
     },
     "execution_count": 12,
     "metadata": {},
     "output_type": "execute_result"
    }
   ],
   "source": [
    "np.percentile(state['Murder.Rate'], 95)"
   ]
  },
  {
   "cell_type": "code",
   "execution_count": 16,
   "metadata": {},
   "outputs": [
    {
     "data": {
      "text/plain": [
       "{'whiskers': [<matplotlib.lines.Line2D at 0x7f9399157b80>,\n",
       "  <matplotlib.lines.Line2D at 0x7f9399157ee0>],\n",
       " 'caps': [<matplotlib.lines.Line2D at 0x7f9399160280>,\n",
       "  <matplotlib.lines.Line2D at 0x7f93991605e0>],\n",
       " 'boxes': [<matplotlib.lines.Line2D at 0x7f93991577f0>],\n",
       " 'medians': [<matplotlib.lines.Line2D at 0x7f9399160940>],\n",
       " 'fliers': [<matplotlib.lines.Line2D at 0x7f9399160ca0>],\n",
       " 'means': []}"
      ]
     },
     "execution_count": 16,
     "metadata": {},
     "output_type": "execute_result"
    },
    {
     "data": {
      "image/png": "[encoded data removed]",
      "text/plain": [
       "<Figure size 432x288 with 1 Axes>"
      ]
     },
     "metadata": {
      "needs_background": "light"
     },
     "output_type": "display_data"
    }
   ],
   "source": [
    "# Boxplot of the Population by State\n",
    "\n",
    "#matplotlib\n",
    "mp.pyplot.boxplot(state['Population'])\n",
    "\n",
    "#pandas\n",
    "#state.boxplot('Population')"
   ]
  },
  {
   "cell_type": "code",
   "execution_count": 21,
   "metadata": {},
   "outputs": [],
   "source": [
    "# IGNORE\n",
    "\n",
    "#Frequency table of Population \n",
    "\n",
    "#no standard function to do this in Python, have to do this in conjunction with numpy.histogram function \n",
    "\n",
    "#1: make breaks\n",
    "max_state_pop = max(state['Population'])\n",
    "min_state_pop = min(state['Population'])\n",
    "\n",
    "range_state_pop = max_state_pop - min_state_pop\n",
    "bin_size = range_state_pop / 10"
   ]
  },
  {
   "cell_type": "code",
   "execution_count": 27,
   "metadata": {
    "collapsed": true
   },
   "outputs": [
    {
     "data": {
      "text/html": [
       "<div>\n",
       "<style scoped>\n",
       "    .dataframe tbody tr th:only-of-type {\n",
       "        vertical-align: middle;\n",
       "    }\n",
       "\n",
       "    .dataframe tbody tr th {\n",
       "        vertical-align: top;\n",
       "    }\n",
       "\n",
       "    .dataframe thead th {\n",
       "        text-align: right;\n",
       "    }\n",
       "</style>\n",
       "<table border=\"1\" class=\"dataframe\">\n",
       "  <thead>\n",
       "    <tr style=\"text-align: right;\">\n",
       "      <th></th>\n",
       "      <th>start</th>\n",
       "      <th>end</th>\n",
       "      <th>state_population</th>\n",
       "      <th>Frec_abs</th>\n",
       "    </tr>\n",
       "  </thead>\n",
       "  <tbody>\n",
       "    <tr>\n",
       "      <th>1.0</th>\n",
       "      <td>563626.0</td>\n",
       "      <td>4232659.0</td>\n",
       "      <td>2398142.5</td>\n",
       "      <td>24</td>\n",
       "    </tr>\n",
       "    <tr>\n",
       "      <th>2.0</th>\n",
       "      <td>4232659.0</td>\n",
       "      <td>7901692.0</td>\n",
       "      <td>6067175.5</td>\n",
       "      <td>14</td>\n",
       "    </tr>\n",
       "    <tr>\n",
       "      <th>3.0</th>\n",
       "      <td>7901692.0</td>\n",
       "      <td>11570725.0</td>\n",
       "      <td>9736208.5</td>\n",
       "      <td>6</td>\n",
       "    </tr>\n",
       "    <tr>\n",
       "      <th>4.0</th>\n",
       "      <td>11570725.0</td>\n",
       "      <td>15239758.0</td>\n",
       "      <td>13405241.5</td>\n",
       "      <td>2</td>\n",
       "    </tr>\n",
       "    <tr>\n",
       "      <th>5.0</th>\n",
       "      <td>15239758.0</td>\n",
       "      <td>18908791.0</td>\n",
       "      <td>17074274.5</td>\n",
       "      <td>1</td>\n",
       "    </tr>\n",
       "    <tr>\n",
       "      <th>6.0</th>\n",
       "      <td>18908791.0</td>\n",
       "      <td>22577824.0</td>\n",
       "      <td>20743307.5</td>\n",
       "      <td>1</td>\n",
       "    </tr>\n",
       "    <tr>\n",
       "      <th>7.0</th>\n",
       "      <td>22577824.0</td>\n",
       "      <td>26246857.0</td>\n",
       "      <td>24412340.5</td>\n",
       "      <td>1</td>\n",
       "    </tr>\n",
       "    <tr>\n",
       "      <th>8.0</th>\n",
       "      <td>26246857.0</td>\n",
       "      <td>29915890.0</td>\n",
       "      <td>28081373.5</td>\n",
       "      <td>0</td>\n",
       "    </tr>\n",
       "    <tr>\n",
       "      <th>9.0</th>\n",
       "      <td>29915890.0</td>\n",
       "      <td>33584923.0</td>\n",
       "      <td>31750406.5</td>\n",
       "      <td>0</td>\n",
       "    </tr>\n",
       "    <tr>\n",
       "      <th>10.0</th>\n",
       "      <td>33584923.0</td>\n",
       "      <td>37253956.0</td>\n",
       "      <td>35419439.5</td>\n",
       "      <td>1</td>\n",
       "    </tr>\n",
       "  </tbody>\n",
       "</table>\n",
       "</div>"
      ],
      "text/plain": [
       "           start         end  state_population  Frec_abs\n",
       "1.0     563626.0   4232659.0         2398142.5        24\n",
       "2.0    4232659.0   7901692.0         6067175.5        14\n",
       "3.0    7901692.0  11570725.0         9736208.5         6\n",
       "4.0   11570725.0  15239758.0        13405241.5         2\n",
       "5.0   15239758.0  18908791.0        17074274.5         1\n",
       "6.0   18908791.0  22577824.0        20743307.5         1\n",
       "7.0   22577824.0  26246857.0        24412340.5         1\n",
       "8.0   26246857.0  29915890.0        28081373.5         0\n",
       "9.0   29915890.0  33584923.0        31750406.5         0\n",
       "10.0  33584923.0  37253956.0        35419439.5         1"
      ]
     },
     "execution_count": 27,
     "metadata": {},
     "output_type": "execute_result"
    }
   ],
   "source": [
    "#Frequency table of Population \n",
    "\n",
    "Abs_frecuency, intervals = np.histogram(state['Population'], bins = 10)\n",
    "\n",
    "df = p.DataFrame(index = np.linspace(1,10,10), columns = ['start', 'end', 'state_population','Frec_abs'])\n",
    "# Assign the intervals\n",
    "df['start'] = intervals[:-1]\n",
    "df['end'] = intervals[1:]\n",
    "# Calculate class marks\n",
    "df['state_population'] = (df['start'] + df['end'])/2\n",
    "# Assing Absolute frecuency\n",
    "df['Frec_abs'] = Abs_frecuency\n",
    "\n",
    "#df\n",
    "\n",
    "#REFERENCE: https://medium.com/pythoneers/histograms-and-frequently-table-in-python-an-approximation-to-the-selection-of-the-number-of-bins-312965281857"
   ]
  },
  {
   "cell_type": "code",
   "execution_count": 8,
   "metadata": {},
   "outputs": [
    {
     "data": {
      "text/plain": [
       "array([[<AxesSubplot:title={'center':'Population'}>]], dtype=object)"
      ]
     },
     "execution_count": 8,
     "metadata": {},
     "output_type": "execute_result"
    },
    {
     "data": {
      "image/png": "[encoded data removed]",
      "text/plain": [
       "<Figure size 432x288 with 1 Axes>"
      ]
     },
     "metadata": {
      "needs_background": "light"
     },
     "output_type": "display_data"
    }
   ],
   "source": [
    "# Histogram of State Population\n",
    "\n",
    "state.hist(['Population'], bins = 10)"
   ]
  },
  {
   "cell_type": "code",
   "execution_count": 27,
   "metadata": {},
   "outputs": [
    {
     "data": {
      "text/plain": [
       "<AxesSubplot:xlabel='Murder.Rate', ylabel='Probability'>"
      ]
     },
     "execution_count": 27,
     "metadata": {},
     "output_type": "execute_result"
    },
    {
     "data": {
      "image/png": "[encoded data removed]",
      "text/plain": [
       "<Figure size 432x288 with 1 Axes>"
      ]
     },
     "metadata": {
      "needs_background": "light"
     },
     "output_type": "display_data"
    }
   ],
   "source": [
    "# Density estimate of Murder Rate\n",
    "\n",
    "sns.histplot(state['Murder.Rate'], bins = 10, stat = 'probability', binwidth = 1, kde = True)\n",
    "\n",
    "#had to use new module (seaborn) for histplot and argument 'kde' to get the smooth curve overlayed on the histogram"
   ]
  },
  {
   "cell_type": "code",
   "execution_count": 123,
   "metadata": {},
   "outputs": [
    {
     "data": {
      "text/html": [
       "<div>\n",
       "<style scoped>\n",
       "    .dataframe tbody tr th:only-of-type {\n",
       "        vertical-align: middle;\n",
       "    }\n",
       "\n",
       "    .dataframe tbody tr th {\n",
       "        vertical-align: top;\n",
       "    }\n",
       "\n",
       "    .dataframe thead th {\n",
       "        text-align: right;\n",
       "    }\n",
       "</style>\n",
       "<table border=\"1\" class=\"dataframe\">\n",
       "  <thead>\n",
       "    <tr style=\"text-align: right;\">\n",
       "      <th></th>\n",
       "      <th>Carrier</th>\n",
       "      <th>ATC</th>\n",
       "      <th>Weather</th>\n",
       "      <th>Security</th>\n",
       "      <th>Inbound</th>\n",
       "    </tr>\n",
       "  </thead>\n",
       "  <tbody>\n",
       "    <tr>\n",
       "      <th>0</th>\n",
       "      <td>64263.16</td>\n",
       "      <td>84856.5</td>\n",
       "      <td>11235.42</td>\n",
       "      <td>343.15</td>\n",
       "      <td>118427.82</td>\n",
       "    </tr>\n",
       "  </tbody>\n",
       "</table>\n",
       "</div>"
      ],
      "text/plain": [
       "    Carrier      ATC   Weather  Security    Inbound\n",
       "0  64263.16  84856.5  11235.42    343.15  118427.82"
      ]
     },
     "execution_count": 123,
     "metadata": {},
     "output_type": "execute_result"
    }
   ],
   "source": [
    "dfw = p.read_csv(filepath_or_buffer = \"dfw_airline.csv\", index_col = False)\n",
    "dfw"
   ]
  },
  {
   "cell_type": "code",
   "execution_count": 124,
   "metadata": {},
   "outputs": [
    {
     "data": {
      "image/png": "[encoded data removed]",
      "text/plain": [
       "<Figure size 432x288 with 1 Axes>"
      ]
     },
     "metadata": {
      "needs_background": "light"
     },
     "output_type": "display_data"
    }
   ],
   "source": [
    "# Barplot to show airport delays per year by cause for DFW \n",
    "\n",
    "#Python has no standard f'n for barplot so using pandas DataFrame.plot.bar. \n",
    "#Also, due to format of data, had to be restructured and faced difficulty in doing so\n",
    "\n",
    "dfw = dfw.transpose()\n",
    "\n",
    "labels = []\n",
    "values = []\n",
    "num_of_values = len(dfw)\n",
    "\n",
    "i = dfw.index\n",
    "for x in i:\n",
    "    labels.append(x)\n",
    "    \n",
    "for i in range(num_of_values):\n",
    "    values.append((dfw.loc[:,0][i]))\n",
    "    \n",
    "dfw_df = p.DataFrame({'labels':labels, 'counts':values})\n",
    "plot = dfw_df.plot.bar(x = 'labels', y = 'counts', legend = False)"
   ]
  }
 ],
 "metadata": {
  "kernelspec": {
   "display_name": "Python 3",
   "language": "python",
   "name": "python3"
  },
  "language_info": {
   "codemirror_mode": {
    "name": "ipython",
    "version": 3
   },
   "file_extension": ".py",
   "mimetype": "text/x-python",
   "name": "python",
   "nbconvert_exporter": "python",
   "pygments_lexer": "ipython3",
   "version": "3.8.5"
  }
 },
 "nbformat": 4,
 "nbformat_minor": 4
}
