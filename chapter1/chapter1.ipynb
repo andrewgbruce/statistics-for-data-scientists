{
 "cells": [
  {
   "cell_type": "code",
   "execution_count": null,
   "metadata": {},
   "outputs": [],
   "source": [
    "# EXAMPLE: Location Estimates of Population and Murder Rates\n",
    "# TASK: compute the mean, trimmed mean, and median for the population"
   ]
  },
  {
   "cell_type": "code",
   "execution_count": 27,
   "metadata": {
    "scrolled": true
   },
   "outputs": [
    {
     "name": "stdout",
     "output_type": "stream",
     "text": [
      "Collecting wquantiles\n",
      "  Downloading wquantiles-0.6-py3-none-any.whl (3.3 kB)\n",
      "Requirement already satisfied: numpy>=1.18 in /opt/anaconda3/lib/python3.8/site-packages (from wquantiles) (1.19.2)\n",
      "Installing collected packages: wquantiles\n",
      "Successfully installed wquantiles-0.6\n",
      "Note: you may need to restart the kernel to use updated packages.\n"
     ]
    }
   ],
   "source": [
    "#pip install wquantiles"
   ]
  },
  {
   "cell_type": "code",
   "execution_count": 1,
   "metadata": {},
   "outputs": [],
   "source": [
    "#import needed packages\n",
    "\n",
    "import os\n",
    "import csv\n",
    "import numpy as np\n",
    "import pandas as p\n",
    "from scipy import stats\n",
    "import weighted"
   ]
  },
  {
   "cell_type": "code",
   "execution_count": 2,
   "metadata": {},
   "outputs": [],
   "source": [
    "os.getcwd()\n",
    "os.chdir(\"/Users/susheel/Documents/GitHub/statistics-for-data-scientists/data\")   #FILE DIRECTORY IN QUOTES\n",
    "#os.listdir()"
   ]
  },
  {
   "cell_type": "code",
   "execution_count": 3,
   "metadata": {},
   "outputs": [],
   "source": [
    "state = p.read_csv(filepath_or_buffer = \"state.csv\")"
   ]
  },
  {
   "cell_type": "code",
   "execution_count": 14,
   "metadata": {},
   "outputs": [
    {
     "data": {
      "text/plain": [
       "6162876.3"
      ]
     },
     "execution_count": 14,
     "metadata": {},
     "output_type": "execute_result"
    }
   ],
   "source": [
    "np.mean(state.Population)"
   ]
  },
  {
   "cell_type": "code",
   "execution_count": 18,
   "metadata": {},
   "outputs": [
    {
     "data": {
      "text/plain": [
       "4783697.125"
      ]
     },
     "execution_count": 18,
     "metadata": {},
     "output_type": "execute_result"
    }
   ],
   "source": [
    "#have to use a different package (scipy) to calculate the trimmed mean\n",
    "stats.trim_mean(state.Population, 0.1)"
   ]
  },
  {
   "cell_type": "code",
   "execution_count": 15,
   "metadata": {},
   "outputs": [
    {
     "data": {
      "text/plain": [
       "4436369.5"
      ]
     },
     "execution_count": 15,
     "metadata": {},
     "output_type": "execute_result"
    }
   ],
   "source": [
    "np.median(state.Population)"
   ]
  },
  {
   "cell_type": "code",
   "execution_count": null,
   "metadata": {},
   "outputs": [],
   "source": [
    "# TASK: compute average murder rate for country"
   ]
  },
  {
   "cell_type": "code",
   "execution_count": 25,
   "metadata": {},
   "outputs": [
    {
     "data": {
      "text/plain": [
       "4.445834"
      ]
     },
     "execution_count": 25,
     "metadata": {},
     "output_type": "execute_result"
    }
   ],
   "source": [
    "round(np.average(state['Murder.Rate'], weights = state.Population), 6)"
   ]
  },
  {
   "cell_type": "code",
   "execution_count": 29,
   "metadata": {},
   "outputs": [
    {
     "data": {
      "text/plain": [
       "4.4"
      ]
     },
     "execution_count": 29,
     "metadata": {},
     "output_type": "execute_result"
    }
   ],
   "source": [
    "weighted.median(state['Murder.Rate'], state['Population'])"
   ]
  },
  {
   "cell_type": "code",
   "execution_count": null,
   "metadata": {},
   "outputs": [],
   "source": [
    "# TASK: compute the standard deviation, IQR and median absolute devision for the population"
   ]
  },
  {
   "cell_type": "code",
   "execution_count": 7,
   "metadata": {},
   "outputs": [
    {
     "data": {
      "text/plain": [
       "6779407.114632265"
      ]
     },
     "execution_count": 7,
     "metadata": {},
     "output_type": "execute_result"
    }
   ],
   "source": [
    "np.std(state['Population'])\n",
    "\n",
    "#numpy std f'n might return values differing R because R uses n-1 df while numpy uses n"
   ]
  },
  {
   "cell_type": "code",
   "execution_count": 8,
   "metadata": {},
   "outputs": [
    {
     "data": {
      "text/plain": [
       "6848235.347401142"
      ]
     },
     "execution_count": 8,
     "metadata": {},
     "output_type": "execute_result"
    }
   ],
   "source": [
    "np.std(state['Population'], ddof = 1)"
   ]
  },
  {
   "cell_type": "code",
   "execution_count": 13,
   "metadata": {},
   "outputs": [
    {
     "data": {
      "text/plain": [
       "4847308.0"
      ]
     },
     "execution_count": 13,
     "metadata": {},
     "output_type": "execute_result"
    }
   ],
   "source": [
    "stats.iqr(state['Population'])\n",
    "\n",
    "#numpy does not have a built-in IQR function but scipy does; if anything, below cell contains iqr function calculated through (q3 - q1) with numpy.percentile function -- arriving at the same answer"
   ]
  },
  {
   "cell_type": "code",
   "execution_count": 15,
   "metadata": {},
   "outputs": [
    {
     "name": "stdout",
     "output_type": "stream",
     "text": [
      "4847308.0\n"
     ]
    }
   ],
   "source": [
    "q3 = np.percentile(state['Population'], 75)\n",
    "q1 = np.percentile(state['Population'], 25)\n",
    "\n",
    "iqr = q3 - q1\n",
    "print(iqr)"
   ]
  },
  {
   "cell_type": "code",
   "execution_count": 19,
   "metadata": {},
   "outputs": [
    {
     "data": {
      "text/plain": [
       "2596702.0"
      ]
     },
     "execution_count": 19,
     "metadata": {},
     "output_type": "execute_result"
    }
   ],
   "source": [
    "stats.median_abs_deviation(state['Population'])\n",
    "\n",
    "#differs from the R value (3849870) so implementing formula manually in below cell"
   ]
  },
  {
   "cell_type": "code",
   "execution_count": 5,
   "metadata": {},
   "outputs": [
    {
     "name": "stderr",
     "output_type": "stream",
     "text": [
      "<ipython-input-5-1f7b6a962419>:3: DeprecationWarning: The default dtype for empty Series will be 'object' instead of 'float64' in a future version. Specify a dtype explicitly to silence this warning.\n",
      "  median_minus_observed = p.Series()\n"
     ]
    },
    {
     "data": {
      "text/plain": [
       "2596702.0"
      ]
     },
     "execution_count": 5,
     "metadata": {},
     "output_type": "execute_result"
    }
   ],
   "source": [
    "#type(state['Population'])\n",
    "\n",
    "median_minus_observed = p.Series()\n",
    "median_minus_observed = state['Population'] - np.median(state['Population'])\n",
    "abs_median_minus_observed = np.absolute(median_minus_observed)\n",
    "median_absolute_deviation = np.median(abs_median_minus_observed)\n",
    "median_absolute_deviation\n",
    "\n",
    "#receiving same result (2596702) in R when manually calculating Median Absolute Deviation\n",
    "# also receiving same result (2596702) in R when using mad() f'n and constant = 1"
   ]
  },
  {
   "cell_type": "code",
   "execution_count": 14,
   "metadata": {},
   "outputs": [
    {
     "data": {
      "text/plain": [
       "2596702.0"
      ]
     },
     "execution_count": 14,
     "metadata": {},
     "output_type": "execute_result"
    }
   ],
   "source": [
    "#stats.median_absolute_deviation(state['Population'])\n",
    "#when performing the above function, receiving a DeprecationWarning: \n",
    "'''\n",
    "<ipython-input-10-a731dec4ff69>:1: DeprecationWarning: `median_absolute_deviation` is deprecated, use `median_abs_deviation` instead!\n",
    "\n",
    "To preserve the existing default behavior, use\n",
    "`scipy.stats.median_abs_deviation(..., scale=1/1.4826)`.\n",
    "The value 1.4826 is not numerically precise for scaling\n",
    "with a normal distribution. For a numerically precise value, use\n",
    "`scipy.stats.median_abs_deviation(..., scale='normal')`.\n",
    "\n",
    "  stats.median_absolute_deviation(state['Population'])\n",
    "'''\n",
    "\n",
    "stats.median_abs_deviation(state['Population'], scale = 1)\n",
    "#when scale = 1, receiving 2596702.0\n",
    "#when scale = 1/1.4826, receiving 3849870.3852"
   ]
  }
 ],
 "metadata": {
  "kernelspec": {
   "display_name": "Python 3",
   "language": "python",
   "name": "python3"
  },
  "language_info": {
   "codemirror_mode": {
    "name": "ipython",
    "version": 3
   },
   "file_extension": ".py",
   "mimetype": "text/x-python",
   "name": "python",
   "nbconvert_exporter": "python",
   "pygments_lexer": "ipython3",
   "version": "3.8.5"
  }
 },
 "nbformat": 4,
 "nbformat_minor": 4
}
